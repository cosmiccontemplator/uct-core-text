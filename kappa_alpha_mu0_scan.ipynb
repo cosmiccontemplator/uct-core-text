import numpy as np
import pandas as pd
# Constants
hbar_c = 197.326e-9  # keV·m
alpha_CODATA = 1/137.035999206

# Sweep ranges
mu0_range = np.logspace(-7, -3, 11)   # SI multiples
sigma_range = np.logspace(-6, 0, 7)   # J m^-2
v_range    = np.linspace(0.1, 0.9, 9) # c-fractions

output = []
for mu in mu0_range:
    for sig in sigma_range:
        for beta in v_range:
            R_eq = (np.pi**2 * hbar_c / (120*mu* (sig*beta)**2 ))**0.25
            kappa = 1 / R_eq
            alpha = alpha_CODATA * (mu/mu0_range[0])**0.25
            output.append((mu, sig, beta, R_eq, kappa, alpha))

df = pd.DataFrame(output,
        columns=['mu0','sigma','beta','R_eq','kappa','alpha'])
df.to_csv('kappa_alpha_scan.csv', index=False)
