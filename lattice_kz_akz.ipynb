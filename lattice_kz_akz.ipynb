import numpy as np, networkx as nx, random, matplotlib.pyplot as plt

# ---- 1. build an L×L grid for simplicity ----
L = 40
outer = nx.grid_2d_graph(L, L, periodic=True)          # U(1) layer ■cite■turn0search5■
inner = outer.copy()                                   # Z6 clock layer

# label nodes once: (phase, clock)
state = {n: [0.0, random.randrange(6)] for n in outer} # radians & 0…5 integers

# ---- 2. quench schedules ----
tau_slow  = 5_000   # Monte-Carlo sweeps for outer U(1)
tau_fast  =  500    # sweeps for inner Z6
T0, Tf = 2.0, 0.1   # linear-cool schedule

def beta(t, tau):               # inverse “temperature”
    return 1.0 / (T0 - (T0-Tf)*t/tau)

# ---- 3. Metropolis updates ----
def dE_u1(node, new_phase):
    e = 0.0
    for nb in outer.neighbors(node):
        diff = np.cos(new_phase - state[nb][0]) - np.cos(state[node][0] - state[nb][0])
        e += diff
    return e

def dE_z6(node, new_clock):
    e = 0
    for nb in inner.neighbors(node):
        diff = 0 if new_clock == state[nb][1] else 1
        diff -= 0 if state[node][1] == state[nb][1] else 1
        e += diff
    return e

def sweep(layer, tau):
    for t in range(tau):
        beta_now = beta(t, tau)
        for n in layer.nodes():
            if layer is outer:                              # U(1) trial
                trial = random.uniform(-np.pi, np.pi)
                dE = dE_u1(n, trial)
                if dE <= 0 or random.random() < np.exp(-beta_now*dE):
                    state[n][0] = trial
            else:                                           # Z6 trial
                trial = random.randrange(6)
                dE = dE_z6(n, trial)
                if dE <= 0 or random.random() < np.exp(-beta_now*dE):
                    state[n][1] = trial

# ---- 4. run quenches ----
sweep(outer, tau_slow)
sweep(inner, tau_fast)

# ---- 5. count vortices ----
def vortex_u1():
    return sum(abs(state[n][0]-state[nb][0])>np.pi for n,nb in outer.edges())//4

def vortex_z6():
    return sum(state[n][1]!=state[nb][1] for n,nb in inner.edges())//6

print("U1-layer vortices:", vortex_u1())
print("Z6-layer vortices:", vortex_z6())
